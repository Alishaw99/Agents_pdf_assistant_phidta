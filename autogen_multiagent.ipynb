{
  "nbformat": 4,
  "nbformat_minor": 0,
  "metadata": {
    "colab": {
      "private_outputs": true,
      "provenance": [],
      "gpuType": "T4",
      "authorship_tag": "ABX9TyNK8Nj9ok28fdgw7yjVLijH",
      "include_colab_link": true
    },
    "kernelspec": {
      "name": "python3",
      "display_name": "Python 3"
    },
    "language_info": {
      "name": "python"
    }
  },
  "cells": [
    {
      "cell_type": "markdown",
      "metadata": {
        "id": "view-in-github",
        "colab_type": "text"
      },
      "source": [
        "<a href=\"https://colab.research.google.com/github/Alishaw99/Agents_pdf_assistant_phidta/blob/main/autogen_multiagent.ipynb\" target=\"_parent\"><img src=\"https://colab.research.google.com/assets/colab-badge.svg\" alt=\"Open In Colab\"/></a>"
      ]
    },
    {
      "cell_type": "code",
      "execution_count": null,
      "metadata": {
        "id": "yf10RqndrC75"
      },
      "outputs": [],
      "source": [
        "!pip install autogen"
      ]
    },
    {
      "cell_type": "code",
      "source": [
        "!pip install pyautogen"
      ],
      "metadata": {
        "id": "BNiqPm6Yrara"
      },
      "execution_count": null,
      "outputs": []
    },
    {
      "cell_type": "code",
      "source": [
        "!pip install dask[dataframe]"
      ],
      "metadata": {
        "id": "e9z0gL2sriO6"
      },
      "execution_count": null,
      "outputs": []
    },
    {
      "cell_type": "code",
      "source": [
        "import autogen"
      ],
      "metadata": {
        "id": "1O23aWanrxkx"
      },
      "execution_count": null,
      "outputs": []
    },
    {
      "cell_type": "code",
      "source": [
        "from autogen import AssistantAgent, UserProxyAgent"
      ],
      "metadata": {
        "id": "Q5mQZnPetl7y"
      },
      "execution_count": null,
      "outputs": []
    },
    {
      "cell_type": "code",
      "source": [
        "from google.colab import userdata\n",
        "OPENAI_API_KEY=userdata.get('OPENAI_API_KEY')"
      ],
      "metadata": {
        "id": "E3To4_VTsxt0"
      },
      "execution_count": null,
      "outputs": []
    },
    {
      "cell_type": "code",
      "source": [
        "config_list = [{'model': 'gpt-4o', 'api_key':OPENAI_API_KEY }]"
      ],
      "metadata": {
        "id": "67VgnE34r7BG"
      },
      "execution_count": null,
      "outputs": []
    },
    {
      "cell_type": "code",
      "source": [
        "llm_config = {\"config_list\": config_list}"
      ],
      "metadata": {
        "id": "Vengm2u-MMEb"
      },
      "execution_count": null,
      "outputs": []
    },
    {
      "cell_type": "code",
      "source": [
        "gpt4o_config = {\n",
        "    \"cache_seed\": 42,  # change the seed for different trials\n",
        "    \"temperature\": 0,\n",
        "    \"config_list\": config_list,\n",
        "    \"timeout\": 120,\n",
        "}"
      ],
      "metadata": {
        "id": "Ia_-uWXxuEhn"
      },
      "execution_count": null,
      "outputs": []
    },
    {
      "cell_type": "code",
      "source": [
        "task = '''\n",
        "  **Task**: As an architect, you are required to design a solution for the following business requriments:\n",
        "  - Data storage for massive amount of IOT data\n",
        "  - Real-time data analytics and machine learning pipeline\n",
        "  -Scalability\n",
        "  -Cost Optimizaiton\n",
        "  -Regional paris in Europe, for disaster recovery\n",
        "  -Tools for monitoring and observability\n",
        "  -Time: 6 month\n",
        "\n",
        "  Break down the problem using a Chain-of-Though approach. Ensure that your solution artictecture is\n",
        "  following the best practices.\n",
        "  '''"
      ],
      "metadata": {
        "id": "c9KF2DeXvPvZ"
      },
      "execution_count": null,
      "outputs": []
    },
    {
      "cell_type": "code",
      "source": [
        "  cloud_prompt= '''\n",
        "  **Role**: you are an expert cloud architect. you need to develop architecture proposals\n",
        "  using either cloud-specifice PaaS services, or cloud-agnostic ones.\n",
        "  The final propsoal should consider all 3 main clouc providers: Azure, AWS and GCP, and provide\n",
        "  a data architecture for each. At the end, briefly state the advantages of cloud over on-premises\n",
        "  architectures, and summarize your solutions for each cloue provider using a table for clarity.\n",
        "  '''\n",
        "  cloud_prompt += task"
      ],
      "metadata": {
        "id": "s9uwWz3Gw9Ar"
      },
      "execution_count": null,
      "outputs": []
    },
    {
      "cell_type": "code",
      "source": [
        "oss_prompt = '''\n",
        "**Role**: you are an expert on premises, open-source software architect. You need to develop\n",
        "architecture proposal without considering cloud solution. only use open-source frameworks that are\n",
        "popular and have lots of active contributors. At the end, briefly state the advantages of\n",
        "open-source adoption, and summarize your solutions using a table for clarity.`\n",
        "'''\n",
        "oss_prompt += task"
      ],
      "metadata": {
        "id": "buYIU2fIyGFg"
      },
      "execution_count": null,
      "outputs": []
    },
    {
      "cell_type": "code",
      "source": [
        "lead_prompt = '''\n",
        "**Role**: you are an lead architect tasked with managing a conversation between the cloud and the open-source Architects.\n",
        "Each Architect will perform a task and respond with their results. You will critically review\n",
        "those and also ask for, or point to, the disadvantages of thier solutions.\n",
        "You will review each results, and choose the best solution in accordance with the business requirement and architecture\n",
        "best practices. You will use any number of summary table to communicate your decisionexpert on premises, open-source software architect. You need to develop\n",
        "architecture proposal without considering cloud solution. only use open-source frameworks that are\n",
        "popular and have lots of active contributors. At the end, briefly state the advantages of\n",
        "open-source adoption, and summarize your solutions using a table for clarity.`\n",
        "'''\n",
        "lead_prompt += task"
      ],
      "metadata": {
        "id": "_iCTivyZzMlv"
      },
      "execution_count": null,
      "outputs": []
    },
    {
      "cell_type": "code",
      "source": [
        "user_proxy = UserProxyAgent(\n",
        "    name=\"supervisor\",\n",
        "    system_message = \"A Human Head of Architecture\",\n",
        "    code_execution_config={\n",
        "        \"last_n_messages\": 2,\n",
        "        \"work_dir\": \"groupchat\",\n",
        "        \"use_docker\": False,\n",
        "    },\n",
        "    human_input_mode=\"NEVER\",\n",
        ")\n"
      ],
      "metadata": {
        "id": "uoHfSDYk2iBJ"
      },
      "execution_count": null,
      "outputs": []
    },
    {
      "cell_type": "code",
      "source": [
        "cloud_agent = AssistantAgent(\n",
        "    name=\"cloud\",\n",
        "    system_message=cloud_prompt,\n",
        "    llm_config={\"config_list\": config_list}\n",
        ")\n",
        "\n",
        "oss_agent = AssistantAgent(\n",
        "    name=\"oss\",\n",
        "    system_message=oss_prompt,\n",
        "    llm_config={\"config_list\": config_list}\n",
        ")\n",
        "\n",
        "lead_agent = AssistantAgent(\n",
        "    name=\"lead\",\n",
        "    system_message=lead_prompt,\n",
        "    llm_config={\"config_list\": config_list}\n",
        ")\n"
      ],
      "metadata": {
        "id": "ya82eTP33zXU"
      },
      "execution_count": null,
      "outputs": []
    },
    {
      "cell_type": "code",
      "source": [],
      "metadata": {
        "id": "8ZeMcEU08nDt"
      },
      "execution_count": null,
      "outputs": []
    },
    {
      "cell_type": "code",
      "source": [
        "def state_transition(last_speaker, groupchat):\n",
        "  messages = groupchat.messages\n",
        "\n",
        "  if last_speaker is user_proxy:\n",
        "    return cloud_agent\n",
        "  elif last_speaker is cloud_agent:\n",
        "    return oss_agent\n",
        "  elif last_speaker is oss_agent:\n",
        "    return lead_agent\n",
        "  elif last_speaker is lead_agent:\n",
        "    # lead-> end\n",
        "    return None"
      ],
      "metadata": {
        "id": "LL3YC2PE8afb"
      },
      "execution_count": null,
      "outputs": []
    },
    {
      "cell_type": "code",
      "source": [
        "LLMConfig = {\"config_list\": config_list}"
      ],
      "metadata": {
        "id": "5Ms67Zve9xpv"
      },
      "execution_count": null,
      "outputs": []
    },
    {
      "cell_type": "code",
      "source": [
        "groupchat = autogen.GroupChat(\n",
        "    agents=[user_proxy, cloud_agent, oss_agent, lead_agent],\n",
        "    messages=[],\n",
        "    max_round=6,\n",
        "    speaker_selection_method=state_transition,\n",
        "\n",
        ")"
      ],
      "metadata": {
        "id": "ajKpVxBeJ816"
      },
      "execution_count": null,
      "outputs": []
    },
    {
      "cell_type": "code",
      "source": [
        "manager = autogen.GroupChatManager(groupchat=groupchat, llm_config=llm_config)"
      ],
      "metadata": {
        "id": "s-gddR3wJv2d"
      },
      "execution_count": null,
      "outputs": []
    },
    {
      "cell_type": "code",
      "source": [
        "user_proxy.initiate_chat(\n",
        "    manager, message=\"Provide your best architecture based on the AI agent for the business requirements\"\n",
        ")"
      ],
      "metadata": {
        "id": "6vbYULG1MfVm"
      },
      "execution_count": null,
      "outputs": []
    }
  ]
}